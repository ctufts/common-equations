{
 "cells": [
  {
   "cell_type": "markdown",
   "metadata": {},
   "source": [
    "# Common Equations\n",
    "This notebook will display equations commonly found in literature rendered via MathJax (LaTex). Please feel free to add any of your equations with a description to the repo. "
   ]
  },
  {
   "cell_type": "markdown",
   "metadata": {},
   "source": [
    "## Mean\n",
    "### Population Mean\n",
    "<span>\n",
    "$$\n",
    "\\begin{equation}\n",
    "\\mu = {\\Sigma X \\over N}\n",
    "\\end{equation}\n",
    "$$\n",
    "</span>"
   ]
  },
  {
   "cell_type": "raw",
   "metadata": {},
   "source": [
    "$$\n",
    "\\begin{equation}\n",
    "\\mu = {\\Sigma X \\over N}\n",
    "\\end{equation}\n",
    "$$"
   ]
  },
  {
   "cell_type": "markdown",
   "metadata": {},
   "source": [
    "### Sample Mean\n",
    "<span>\n",
    "$$\n",
    "\\begin{equation}\n",
    "\\bar{X} = {\\Sigma X \\over n}\n",
    "\\end{equation}\n",
    "$$\n",
    "</span>"
   ]
  },
  {
   "cell_type": "raw",
   "metadata": {},
   "source": [
    "$$\n",
    "\\begin{equation}\n",
    "\\bar{X} = {\\Sigma X \\over n}\n",
    "\\end{equation}\n",
    "$$"
   ]
  },
  {
   "cell_type": "markdown",
   "metadata": {},
   "source": [
    "## Variance\n",
    "### Population Variance\n",
    "<span>\n",
    "$$\n",
    "\\begin{equation}\n",
    "\\sigma^2 = {\\Sigma(X-\\mu)^2 \\over N}\n",
    "\\end{equation}\n",
    "$$\n",
    "</span>\n"
   ]
  },
  {
   "cell_type": "raw",
   "metadata": {},
   "source": [
    "$$\n",
    "\\begin{equation}\n",
    "\\sigma^2 = {\\Sigma(X-\\mu)^2 \\over N}\n",
    "\\end{equation}\n",
    "$$"
   ]
  },
  {
   "cell_type": "markdown",
   "metadata": {},
   "source": [
    "### Sample Variance\n",
    "<span>\n",
    "$$\n",
    "\\begin{equation}\n",
    "s^2 = {\\Sigma(X-\\bar{X})^2 \\over (n-1)}\n",
    "\\end{equation}\n",
    "$$\n",
    "</span>"
   ]
  },
  {
   "cell_type": "raw",
   "metadata": {},
   "source": [
    "$$\n",
    "\\begin{equation}\n",
    "s^2 = {\\Sigma(X-\\bar{X})^2 \\over (n-1)}\n",
    "\\end{equation}\n",
    "$$"
   ]
  },
  {
   "cell_type": "markdown",
   "metadata": {},
   "source": [
    "## Standard Deviation\n",
    "\n",
    "### Population\n",
    "<span>\n",
    "$$\n",
    "\\begin{equation}\n",
    "\\sigma = \\sqrt{\\Sigma(X-\\mu)^2 \\over N}\n",
    "\\end{equation}\n",
    "$$\n",
    "</span><br/>\n"
   ]
  },
  {
   "cell_type": "raw",
   "metadata": {},
   "source": [
    "$$\n",
    "\\begin{equation}\n",
    "\\sigma = \\sqrt{\\Sigma(X-\\mu)^2 \\over N}\n",
    "\\end{equation}\n",
    "$$"
   ]
  },
  {
   "cell_type": "markdown",
   "metadata": {},
   "source": [
    "## Sample\n",
    "<span>\n",
    "$$\n",
    "\\begin{equation}\n",
    "s = \\sqrt{\\Sigma(X-\\bar{X})^2 \\over (n-1)}\n",
    "\\end{equation}\n",
    "$$\n",
    "</span>"
   ]
  },
  {
   "cell_type": "raw",
   "metadata": {},
   "source": [
    "$$\n",
    "\\begin{equation}\n",
    "s = \\sqrt{\\Sigma(X-\\bar{X})^2 \\over (n-1)}\n",
    "\\end{equation}\n",
    "$$"
   ]
  },
  {
   "cell_type": "markdown",
   "metadata": {},
   "source": [
    "## Covariance\n",
    "### Sample\n",
    "<span>\n",
    "    $$\n",
    "    \\begin{equation}\n",
    "    cov(x,y) = {\\Sigma(x-\\bar{x})(y-\\bar{y}) \\over (n-1)}\n",
    "    \\end{equation}\n",
    "    $$\n",
    "</span>"
   ]
  },
  {
   "cell_type": "raw",
   "metadata": {},
   "source": [
    "    $$\n",
    "    \\begin{equation}\n",
    "    cov(x,y) = {\\Sigma(x-\\bar{x})(y-\\bar{y}) \\over (n-1)}\n",
    "    \\end{equation}\n",
    "    $$"
   ]
  },
  {
   "cell_type": "markdown",
   "metadata": {},
   "source": [
    "### Population\n",
    "<span>\n",
    "$$\n",
    "\\begin{equation}\n",
    "cov(x,y) = {\\Sigma(x-\\mu_{x})(y-\\mu_{y}) \\over N}\n",
    "\\end{equation}\n",
    "$$\n",
    "</span>"
   ]
  },
  {
   "cell_type": "raw",
   "metadata": {},
   "source": [
    "$$\n",
    "\\begin{equation}\n",
    "cov(x,y) = {\\Sigma(x-\\mu_{x})(y-\\mu_{y}) \\over N}\n",
    "\\end{equation}\n",
    "$$"
   ]
  },
  {
   "cell_type": "markdown",
   "metadata": {},
   "source": [
    "## Pearson Correlation\n",
    "\n",
    "### Sample\n",
    "<span>\n",
    "    $$\n",
    "    \\begin{equation}\n",
    "    r = {\\Sigma(z_{x}z_{y}) \\over (n-1)}\n",
    "    \\end{equation}\n",
    "    $$\n",
    "</span>"
   ]
  },
  {
   "cell_type": "raw",
   "metadata": {},
   "source": [
    "$$\n",
    "\\begin{equation}\n",
    "\\rho = {\\Sigma(z_{x}z_{y}) \\over (n-1)}\n",
    "\\end{equation}\n",
    "$$"
   ]
  },
  {
   "cell_type": "markdown",
   "metadata": {},
   "source": [
    "### Population\n",
    "<span>\n",
    "$$\n",
    "\\begin{equation}\n",
    "\\rho = {\\Sigma(z_{x}z_{y}) \\over N}\n",
    "\\end{equation}\n",
    "$$\n",
    "</span>"
   ]
  },
  {
   "cell_type": "raw",
   "metadata": {},
   "source": [
    "$$\n",
    "\\begin{equation}\n",
    "\\rho = {\\Sigma(z_{x}z_{y}) \\over N}\n",
    "\\end{equation}\n",
    "$$"
   ]
  },
  {
   "cell_type": "markdown",
   "metadata": {},
   "source": [
    "## Information Entropy\n",
    "<span>\n",
    "$$\n",
    "H(X)=-\\sum _{i=1}^{n}p(x_{i})\\log p(x_{i})\n",
    "$$\n",
    "</span>"
   ]
  },
  {
   "cell_type": "raw",
   "metadata": {},
   "source": [
    "$$\n",
    "H(X)=-\\sum _{i=1}^{n}p(x_{i})\\log p(x_{i})\n",
    "$$"
   ]
  },
  {
   "cell_type": "markdown",
   "metadata": {},
   "source": [
    "## Softmax\n",
    "<span>\n",
    "$$\n",
    "P(y=j|\\mathbf {x} )={\\frac {e^{\\mathbf {x} ^{\\mathsf {T}}\\mathbf {w} _{j}}}{\\sum _{k=1}^{K}e^{\\mathbf {x} ^{\\mathsf {T}}\\mathbf {w} _{k}}}}\n",
    "$$\n",
    "</span>"
   ]
  },
  {
   "cell_type": "raw",
   "metadata": {},
   "source": [
    "<span>\n",
    "$$\n",
    "P(y=j|\\mathbf {x} )={\\frac {e^{\\mathbf {x} ^{\\mathsf {T}}\\mathbf {w} _{j}}}{\\sum _{k=1}^{K}e^{\\mathbf {x} ^{\\mathsf {T}}\\mathbf {w} _{k}}}}\n",
    "$$"
   ]
  },
  {
   "cell_type": "markdown",
   "metadata": {},
   "source": [
    "## Jeffreys Prior\n",
    "<span>\n",
    "$$\n",
    "\\left({\\vec  \\theta }\\right)\\propto {\\sqrt  {\\det {\\mathcal  {I}}\\left({\\vec  \\theta }\\right)}}.\\\n",
    "$$\n",
    "</span>"
   ]
  },
  {
   "cell_type": "raw",
   "metadata": {},
   "source": [
    "$$\n",
    "\\left({\\vec  \\theta }\\right)\\propto {\\sqrt  {\\det {\\mathcal  {I}}\\left({\\vec  \\theta }\\right)}}.\\\n",
    "$$"
   ]
  }
 ],
 "metadata": {
  "kernelspec": {
   "display_name": "Python [conda root]",
   "language": "python",
   "name": "conda-root-py"
  },
  "language_info": {
   "codemirror_mode": {
    "name": "ipython",
    "version": 2
   },
   "file_extension": ".py",
   "mimetype": "text/x-python",
   "name": "python",
   "nbconvert_exporter": "python",
   "pygments_lexer": "ipython2",
   "version": "2.7.13"
  }
 },
 "nbformat": 4,
 "nbformat_minor": 0
}
